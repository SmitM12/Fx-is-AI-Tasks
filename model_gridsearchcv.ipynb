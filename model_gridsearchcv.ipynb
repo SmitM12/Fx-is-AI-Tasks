{
 "cells": [
  {
   "cell_type": "markdown",
   "metadata": {},
   "source": [
    "# Anomaly detection in cellular networks"
   ]
  },
  {
   "cell_type": "markdown",
   "metadata": {},
   "source": [
    "## Introduction"
   ]
  },
  {
   "cell_type": "markdown",
   "metadata": {},
   "source": [
    "The purpose of this homework is to solve a classification problem proposed as a competition in the Kaggle InClass platform, where each team of two members will try to get the maximum score. You can apply any of the concepts and techniques studied in class for exploratory data analysis, feature selection and classification."
   ]
  },
  {
   "cell_type": "markdown",
   "metadata": {},
   "source": [
    "## Goal"
   ]
  },
  {
   "cell_type": "markdown",
   "metadata": {},
   "source": [
    "The objective of the network optimization team is to analyze traces of past activity, which will be used to train an ML system capable of classifying samples of current activity as:\n",
    "##### • 0 (normal): current activity corresponds to normal behavior of any working day and. Therefore, no re-configuration or redistribution of resources is needed.\n",
    "##### • 1 (unusual): current activity slightly differs from the behavior usually observed for that time of the day (e.g. due to a strike, demonstration, sports event, etc.), which should trigger a reconfiguration of the base station."
   ]
  },
  {
   "cell_type": "markdown",
   "metadata": {},
   "source": [
    "## Import Packages"
   ]
  },
  {
   "cell_type": "code",
   "execution_count": 21,
   "metadata": {},
   "outputs": [],
   "source": [
    "from sklearn.model_selection import train_test_split, cross_val_score, GridSearchCV\n",
    "from sklearn.preprocessing import StandardScaler\n",
    "from sklearn.metrics import accuracy_score, classification_report, f1_score\n",
    "from sklearn.ensemble import RandomForestClassifier\n",
    "from sklearn.linear_model import LogisticRegression\n",
    "from sklearn.svm import SVC\n",
    "from xgboost import XGBClassifier\n",
    "from imblearn.over_sampling import SMOTE\n",
    "import pandas as pd\n",
    "import pickle"
   ]
  },
  {
   "cell_type": "markdown",
   "metadata": {},
   "source": [
    "## Loading the data"
   ]
  },
  {
   "cell_type": "code",
   "execution_count": 3,
   "metadata": {},
   "outputs": [
    {
     "data": {
      "text/html": [
       "<div>\n",
       "<style scoped>\n",
       "    .dataframe tbody tr th:only-of-type {\n",
       "        vertical-align: middle;\n",
       "    }\n",
       "\n",
       "    .dataframe tbody tr th {\n",
       "        vertical-align: top;\n",
       "    }\n",
       "\n",
       "    .dataframe thead th {\n",
       "        text-align: right;\n",
       "    }\n",
       "</style>\n",
       "<table border=\"1\" class=\"dataframe\">\n",
       "  <thead>\n",
       "    <tr style=\"text-align: right;\">\n",
       "      <th></th>\n",
       "      <th>Time</th>\n",
       "      <th>CellName</th>\n",
       "      <th>PRBUsageUL</th>\n",
       "      <th>PRBUsageDL</th>\n",
       "      <th>meanThr_DL</th>\n",
       "      <th>meanThr_UL</th>\n",
       "      <th>maxThr_DL</th>\n",
       "      <th>maxThr_UL</th>\n",
       "      <th>meanUE_DL</th>\n",
       "      <th>meanUE_UL</th>\n",
       "      <th>maxUE_DL</th>\n",
       "      <th>maxUE_UL</th>\n",
       "      <th>maxUE_UL+DL</th>\n",
       "      <th>Unusual</th>\n",
       "    </tr>\n",
       "  </thead>\n",
       "  <tbody>\n",
       "    <tr>\n",
       "      <th>0</th>\n",
       "      <td>10:45</td>\n",
       "      <td>3BLTE</td>\n",
       "      <td>11.642</td>\n",
       "      <td>1.393</td>\n",
       "      <td>0.370</td>\n",
       "      <td>0.041</td>\n",
       "      <td>15.655</td>\n",
       "      <td>0.644</td>\n",
       "      <td>1.114</td>\n",
       "      <td>1.025</td>\n",
       "      <td>4.0</td>\n",
       "      <td>3.0</td>\n",
       "      <td>7</td>\n",
       "      <td>1</td>\n",
       "    </tr>\n",
       "    <tr>\n",
       "      <th>1</th>\n",
       "      <td>9:45</td>\n",
       "      <td>1BLTE</td>\n",
       "      <td>21.791</td>\n",
       "      <td>1.891</td>\n",
       "      <td>0.537</td>\n",
       "      <td>0.268</td>\n",
       "      <td>10.273</td>\n",
       "      <td>1.154</td>\n",
       "      <td>1.353</td>\n",
       "      <td>1.085</td>\n",
       "      <td>6.0</td>\n",
       "      <td>4.0</td>\n",
       "      <td>10</td>\n",
       "      <td>1</td>\n",
       "    </tr>\n",
       "    <tr>\n",
       "      <th>2</th>\n",
       "      <td>7:45</td>\n",
       "      <td>9BLTE</td>\n",
       "      <td>0.498</td>\n",
       "      <td>0.398</td>\n",
       "      <td>0.015</td>\n",
       "      <td>0.010</td>\n",
       "      <td>0.262</td>\n",
       "      <td>0.164</td>\n",
       "      <td>0.995</td>\n",
       "      <td>0.995</td>\n",
       "      <td>1.0</td>\n",
       "      <td>1.0</td>\n",
       "      <td>2</td>\n",
       "      <td>1</td>\n",
       "    </tr>\n",
       "    <tr>\n",
       "      <th>3</th>\n",
       "      <td>2:45</td>\n",
       "      <td>4ALTE</td>\n",
       "      <td>1.891</td>\n",
       "      <td>1.095</td>\n",
       "      <td>0.940</td>\n",
       "      <td>0.024</td>\n",
       "      <td>60.715</td>\n",
       "      <td>0.825</td>\n",
       "      <td>1.035</td>\n",
       "      <td>0.995</td>\n",
       "      <td>2.0</td>\n",
       "      <td>2.0</td>\n",
       "      <td>4</td>\n",
       "      <td>1</td>\n",
       "    </tr>\n",
       "    <tr>\n",
       "      <th>4</th>\n",
       "      <td>3:30</td>\n",
       "      <td>10BLTE</td>\n",
       "      <td>0.303</td>\n",
       "      <td>0.404</td>\n",
       "      <td>0.016</td>\n",
       "      <td>0.013</td>\n",
       "      <td>0.348</td>\n",
       "      <td>0.168</td>\n",
       "      <td>1.011</td>\n",
       "      <td>1.011</td>\n",
       "      <td>2.0</td>\n",
       "      <td>1.0</td>\n",
       "      <td>3</td>\n",
       "      <td>0</td>\n",
       "    </tr>\n",
       "    <tr>\n",
       "      <th>...</th>\n",
       "      <td>...</td>\n",
       "      <td>...</td>\n",
       "      <td>...</td>\n",
       "      <td>...</td>\n",
       "      <td>...</td>\n",
       "      <td>...</td>\n",
       "      <td>...</td>\n",
       "      <td>...</td>\n",
       "      <td>...</td>\n",
       "      <td>...</td>\n",
       "      <td>...</td>\n",
       "      <td>...</td>\n",
       "      <td>...</td>\n",
       "      <td>...</td>\n",
       "    </tr>\n",
       "    <tr>\n",
       "      <th>36899</th>\n",
       "      <td>21:30</td>\n",
       "      <td>6ALTE</td>\n",
       "      <td>7.579</td>\n",
       "      <td>0.808</td>\n",
       "      <td>0.164</td>\n",
       "      <td>0.037</td>\n",
       "      <td>7.980</td>\n",
       "      <td>0.375</td>\n",
       "      <td>1.101</td>\n",
       "      <td>0.010</td>\n",
       "      <td>4.0</td>\n",
       "      <td>3.0</td>\n",
       "      <td>7</td>\n",
       "      <td>0</td>\n",
       "    </tr>\n",
       "    <tr>\n",
       "      <th>36900</th>\n",
       "      <td>9:45</td>\n",
       "      <td>8CLTE</td>\n",
       "      <td>9.095</td>\n",
       "      <td>1.213</td>\n",
       "      <td>0.189</td>\n",
       "      <td>0.030</td>\n",
       "      <td>19.510</td>\n",
       "      <td>1.583</td>\n",
       "      <td>1.122</td>\n",
       "      <td>1.031</td>\n",
       "      <td>4.0</td>\n",
       "      <td>2.0</td>\n",
       "      <td>6</td>\n",
       "      <td>0</td>\n",
       "    </tr>\n",
       "    <tr>\n",
       "      <th>36901</th>\n",
       "      <td>13:30</td>\n",
       "      <td>9BLTE</td>\n",
       "      <td>4.378</td>\n",
       "      <td>0.896</td>\n",
       "      <td>0.341</td>\n",
       "      <td>0.030</td>\n",
       "      <td>12.037</td>\n",
       "      <td>0.540</td>\n",
       "      <td>1.065</td>\n",
       "      <td>1.005</td>\n",
       "      <td>4.0</td>\n",
       "      <td>3.0</td>\n",
       "      <td>7</td>\n",
       "      <td>1</td>\n",
       "    </tr>\n",
       "    <tr>\n",
       "      <th>36902</th>\n",
       "      <td>12:30</td>\n",
       "      <td>3CLTE</td>\n",
       "      <td>13.339</td>\n",
       "      <td>2.728</td>\n",
       "      <td>0.559</td>\n",
       "      <td>0.065</td>\n",
       "      <td>28.187</td>\n",
       "      <td>0.894</td>\n",
       "      <td>1.223</td>\n",
       "      <td>1.061</td>\n",
       "      <td>5.0</td>\n",
       "      <td>4.0</td>\n",
       "      <td>9</td>\n",
       "      <td>0</td>\n",
       "    </tr>\n",
       "    <tr>\n",
       "      <th>36903</th>\n",
       "      <td>15:45</td>\n",
       "      <td>5BLTE</td>\n",
       "      <td>22.231</td>\n",
       "      <td>2.627</td>\n",
       "      <td>0.814</td>\n",
       "      <td>0.076</td>\n",
       "      <td>80.804</td>\n",
       "      <td>0.852</td>\n",
       "      <td>1.324</td>\n",
       "      <td>1.142</td>\n",
       "      <td>6.0</td>\n",
       "      <td>4.0</td>\n",
       "      <td>10</td>\n",
       "      <td>0</td>\n",
       "    </tr>\n",
       "  </tbody>\n",
       "</table>\n",
       "<p>36904 rows × 14 columns</p>\n",
       "</div>"
      ],
      "text/plain": [
       "        Time CellName  PRBUsageUL  PRBUsageDL  meanThr_DL  meanThr_UL  \\\n",
       "0      10:45    3BLTE      11.642       1.393       0.370       0.041   \n",
       "1       9:45    1BLTE      21.791       1.891       0.537       0.268   \n",
       "2       7:45    9BLTE       0.498       0.398       0.015       0.010   \n",
       "3       2:45    4ALTE       1.891       1.095       0.940       0.024   \n",
       "4       3:30   10BLTE       0.303       0.404       0.016       0.013   \n",
       "...      ...      ...         ...         ...         ...         ...   \n",
       "36899  21:30    6ALTE       7.579       0.808       0.164       0.037   \n",
       "36900   9:45    8CLTE       9.095       1.213       0.189       0.030   \n",
       "36901  13:30    9BLTE       4.378       0.896       0.341       0.030   \n",
       "36902  12:30    3CLTE      13.339       2.728       0.559       0.065   \n",
       "36903  15:45    5BLTE      22.231       2.627       0.814       0.076   \n",
       "\n",
       "       maxThr_DL  maxThr_UL  meanUE_DL  meanUE_UL  maxUE_DL  maxUE_UL  \\\n",
       "0         15.655      0.644      1.114      1.025       4.0       3.0   \n",
       "1         10.273      1.154      1.353      1.085       6.0       4.0   \n",
       "2          0.262      0.164      0.995      0.995       1.0       1.0   \n",
       "3         60.715      0.825      1.035      0.995       2.0       2.0   \n",
       "4          0.348      0.168      1.011      1.011       2.0       1.0   \n",
       "...          ...        ...        ...        ...       ...       ...   \n",
       "36899      7.980      0.375      1.101      0.010       4.0       3.0   \n",
       "36900     19.510      1.583      1.122      1.031       4.0       2.0   \n",
       "36901     12.037      0.540      1.065      1.005       4.0       3.0   \n",
       "36902     28.187      0.894      1.223      1.061       5.0       4.0   \n",
       "36903     80.804      0.852      1.324      1.142       6.0       4.0   \n",
       "\n",
       "      maxUE_UL+DL  Unusual  \n",
       "0               7        1  \n",
       "1              10        1  \n",
       "2               2        1  \n",
       "3               4        1  \n",
       "4               3        0  \n",
       "...           ...      ...  \n",
       "36899           7        0  \n",
       "36900           6        0  \n",
       "36901           7        1  \n",
       "36902           9        0  \n",
       "36903          10        0  \n",
       "\n",
       "[36904 rows x 14 columns]"
      ]
     },
     "execution_count": 3,
     "metadata": {},
     "output_type": "execute_result"
    }
   ],
   "source": [
    "train_data = pd.read_csv('ML-MATT-CompetitionQT1920_train.csv', encoding='latin')\n",
    "train_data"
   ]
  },
  {
   "cell_type": "markdown",
   "metadata": {},
   "source": [
    "## Understanding the data"
   ]
  },
  {
   "cell_type": "markdown",
   "metadata": {},
   "source": [
    "##### • Time : hour of the day (in the format hh:mm) when the sample was generated.\n",
    "##### • CellName1: text string used to uniquely identify the cell that generated the current sample. CellName is in the form xαLTE, where x identifies the base station, and α the cell within that base station (see the example in the right figure).\n",
    "##### • PRBUsageUL and PRBUsageDL: level of resource utilization in that cell measured as the portion of Physical Radio Blocks (PRB) that were in use (%) in the previous 15 minutes. Uplink (UL) and downlink (DL) are measured separately.\n",
    "##### • meanThr_DL and meanThr_UL: average carried traffic (in Mbps) during the past 15 minutes. Uplink (UL) and downlink (DL) are measured separately.\n",
    "##### • maxThr_DL and maxThr_UL: maximum carried traffic (in Mbps) measured in the last 15 minutes. Uplink (UL) and downlink (DL) are measured separately.\n",
    "##### • meanUE_DL and meanUE_UL: average number of user equipment (UE) devices that were simultaneously active during the last 15 minutes. Uplink (UL) and downlink (DL) are measured separately.\n",
    "##### • maxUE_DL and maxUE_UL: maximum number of user equipment (UE) devices that were simultaneously active during the last 15 minutes. Uplink (UL) and downlink (DL) are measured separately.\n",
    "##### • maxUE_UL+DL: maximum number of user equipment (UE) devices that were active simultaneously in the last 15 minutes, regardless of UL and DL.\n",
    "##### • Unusual: labels for supervised learning. A value of 0 determines that the sample corresponds to normal operation, a value of 1 identifies unusual behavior."
   ]
  },
  {
   "cell_type": "markdown",
   "metadata": {},
   "source": [
    "## Handling Unnecessary Features"
   ]
  },
  {
   "cell_type": "code",
   "execution_count": 4,
   "metadata": {},
   "outputs": [
    {
     "data": {
      "text/html": [
       "<div>\n",
       "<style scoped>\n",
       "    .dataframe tbody tr th:only-of-type {\n",
       "        vertical-align: middle;\n",
       "    }\n",
       "\n",
       "    .dataframe tbody tr th {\n",
       "        vertical-align: top;\n",
       "    }\n",
       "\n",
       "    .dataframe thead th {\n",
       "        text-align: right;\n",
       "    }\n",
       "</style>\n",
       "<table border=\"1\" class=\"dataframe\">\n",
       "  <thead>\n",
       "    <tr style=\"text-align: right;\">\n",
       "      <th></th>\n",
       "      <th>PRBUsageUL</th>\n",
       "      <th>PRBUsageDL</th>\n",
       "      <th>meanThr_DL</th>\n",
       "      <th>meanThr_UL</th>\n",
       "      <th>maxThr_DL</th>\n",
       "      <th>maxThr_UL</th>\n",
       "      <th>meanUE_DL</th>\n",
       "      <th>meanUE_UL</th>\n",
       "      <th>maxUE_DL</th>\n",
       "      <th>maxUE_UL</th>\n",
       "      <th>maxUE_UL+DL</th>\n",
       "      <th>Unusual</th>\n",
       "    </tr>\n",
       "  </thead>\n",
       "  <tbody>\n",
       "    <tr>\n",
       "      <th>0</th>\n",
       "      <td>11.642</td>\n",
       "      <td>1.393</td>\n",
       "      <td>0.370</td>\n",
       "      <td>0.041</td>\n",
       "      <td>15.655</td>\n",
       "      <td>0.644</td>\n",
       "      <td>1.114</td>\n",
       "      <td>1.025</td>\n",
       "      <td>4.0</td>\n",
       "      <td>3.0</td>\n",
       "      <td>7</td>\n",
       "      <td>1</td>\n",
       "    </tr>\n",
       "    <tr>\n",
       "      <th>1</th>\n",
       "      <td>21.791</td>\n",
       "      <td>1.891</td>\n",
       "      <td>0.537</td>\n",
       "      <td>0.268</td>\n",
       "      <td>10.273</td>\n",
       "      <td>1.154</td>\n",
       "      <td>1.353</td>\n",
       "      <td>1.085</td>\n",
       "      <td>6.0</td>\n",
       "      <td>4.0</td>\n",
       "      <td>10</td>\n",
       "      <td>1</td>\n",
       "    </tr>\n",
       "    <tr>\n",
       "      <th>2</th>\n",
       "      <td>0.498</td>\n",
       "      <td>0.398</td>\n",
       "      <td>0.015</td>\n",
       "      <td>0.010</td>\n",
       "      <td>0.262</td>\n",
       "      <td>0.164</td>\n",
       "      <td>0.995</td>\n",
       "      <td>0.995</td>\n",
       "      <td>1.0</td>\n",
       "      <td>1.0</td>\n",
       "      <td>2</td>\n",
       "      <td>1</td>\n",
       "    </tr>\n",
       "    <tr>\n",
       "      <th>3</th>\n",
       "      <td>1.891</td>\n",
       "      <td>1.095</td>\n",
       "      <td>0.940</td>\n",
       "      <td>0.024</td>\n",
       "      <td>60.715</td>\n",
       "      <td>0.825</td>\n",
       "      <td>1.035</td>\n",
       "      <td>0.995</td>\n",
       "      <td>2.0</td>\n",
       "      <td>2.0</td>\n",
       "      <td>4</td>\n",
       "      <td>1</td>\n",
       "    </tr>\n",
       "    <tr>\n",
       "      <th>4</th>\n",
       "      <td>0.303</td>\n",
       "      <td>0.404</td>\n",
       "      <td>0.016</td>\n",
       "      <td>0.013</td>\n",
       "      <td>0.348</td>\n",
       "      <td>0.168</td>\n",
       "      <td>1.011</td>\n",
       "      <td>1.011</td>\n",
       "      <td>2.0</td>\n",
       "      <td>1.0</td>\n",
       "      <td>3</td>\n",
       "      <td>0</td>\n",
       "    </tr>\n",
       "    <tr>\n",
       "      <th>...</th>\n",
       "      <td>...</td>\n",
       "      <td>...</td>\n",
       "      <td>...</td>\n",
       "      <td>...</td>\n",
       "      <td>...</td>\n",
       "      <td>...</td>\n",
       "      <td>...</td>\n",
       "      <td>...</td>\n",
       "      <td>...</td>\n",
       "      <td>...</td>\n",
       "      <td>...</td>\n",
       "      <td>...</td>\n",
       "    </tr>\n",
       "    <tr>\n",
       "      <th>36899</th>\n",
       "      <td>7.579</td>\n",
       "      <td>0.808</td>\n",
       "      <td>0.164</td>\n",
       "      <td>0.037</td>\n",
       "      <td>7.980</td>\n",
       "      <td>0.375</td>\n",
       "      <td>1.101</td>\n",
       "      <td>0.010</td>\n",
       "      <td>4.0</td>\n",
       "      <td>3.0</td>\n",
       "      <td>7</td>\n",
       "      <td>0</td>\n",
       "    </tr>\n",
       "    <tr>\n",
       "      <th>36900</th>\n",
       "      <td>9.095</td>\n",
       "      <td>1.213</td>\n",
       "      <td>0.189</td>\n",
       "      <td>0.030</td>\n",
       "      <td>19.510</td>\n",
       "      <td>1.583</td>\n",
       "      <td>1.122</td>\n",
       "      <td>1.031</td>\n",
       "      <td>4.0</td>\n",
       "      <td>2.0</td>\n",
       "      <td>6</td>\n",
       "      <td>0</td>\n",
       "    </tr>\n",
       "    <tr>\n",
       "      <th>36901</th>\n",
       "      <td>4.378</td>\n",
       "      <td>0.896</td>\n",
       "      <td>0.341</td>\n",
       "      <td>0.030</td>\n",
       "      <td>12.037</td>\n",
       "      <td>0.540</td>\n",
       "      <td>1.065</td>\n",
       "      <td>1.005</td>\n",
       "      <td>4.0</td>\n",
       "      <td>3.0</td>\n",
       "      <td>7</td>\n",
       "      <td>1</td>\n",
       "    </tr>\n",
       "    <tr>\n",
       "      <th>36902</th>\n",
       "      <td>13.339</td>\n",
       "      <td>2.728</td>\n",
       "      <td>0.559</td>\n",
       "      <td>0.065</td>\n",
       "      <td>28.187</td>\n",
       "      <td>0.894</td>\n",
       "      <td>1.223</td>\n",
       "      <td>1.061</td>\n",
       "      <td>5.0</td>\n",
       "      <td>4.0</td>\n",
       "      <td>9</td>\n",
       "      <td>0</td>\n",
       "    </tr>\n",
       "    <tr>\n",
       "      <th>36903</th>\n",
       "      <td>22.231</td>\n",
       "      <td>2.627</td>\n",
       "      <td>0.814</td>\n",
       "      <td>0.076</td>\n",
       "      <td>80.804</td>\n",
       "      <td>0.852</td>\n",
       "      <td>1.324</td>\n",
       "      <td>1.142</td>\n",
       "      <td>6.0</td>\n",
       "      <td>4.0</td>\n",
       "      <td>10</td>\n",
       "      <td>0</td>\n",
       "    </tr>\n",
       "  </tbody>\n",
       "</table>\n",
       "<p>36904 rows × 12 columns</p>\n",
       "</div>"
      ],
      "text/plain": [
       "       PRBUsageUL  PRBUsageDL  meanThr_DL  meanThr_UL  maxThr_DL  maxThr_UL  \\\n",
       "0          11.642       1.393       0.370       0.041     15.655      0.644   \n",
       "1          21.791       1.891       0.537       0.268     10.273      1.154   \n",
       "2           0.498       0.398       0.015       0.010      0.262      0.164   \n",
       "3           1.891       1.095       0.940       0.024     60.715      0.825   \n",
       "4           0.303       0.404       0.016       0.013      0.348      0.168   \n",
       "...           ...         ...         ...         ...        ...        ...   \n",
       "36899       7.579       0.808       0.164       0.037      7.980      0.375   \n",
       "36900       9.095       1.213       0.189       0.030     19.510      1.583   \n",
       "36901       4.378       0.896       0.341       0.030     12.037      0.540   \n",
       "36902      13.339       2.728       0.559       0.065     28.187      0.894   \n",
       "36903      22.231       2.627       0.814       0.076     80.804      0.852   \n",
       "\n",
       "       meanUE_DL  meanUE_UL  maxUE_DL  maxUE_UL maxUE_UL+DL  Unusual  \n",
       "0          1.114      1.025       4.0       3.0           7        1  \n",
       "1          1.353      1.085       6.0       4.0          10        1  \n",
       "2          0.995      0.995       1.0       1.0           2        1  \n",
       "3          1.035      0.995       2.0       2.0           4        1  \n",
       "4          1.011      1.011       2.0       1.0           3        0  \n",
       "...          ...        ...       ...       ...         ...      ...  \n",
       "36899      1.101      0.010       4.0       3.0           7        0  \n",
       "36900      1.122      1.031       4.0       2.0           6        0  \n",
       "36901      1.065      1.005       4.0       3.0           7        1  \n",
       "36902      1.223      1.061       5.0       4.0           9        0  \n",
       "36903      1.324      1.142       6.0       4.0          10        0  \n",
       "\n",
       "[36904 rows x 12 columns]"
      ]
     },
     "execution_count": 4,
     "metadata": {},
     "output_type": "execute_result"
    }
   ],
   "source": [
    "train_data = train_data.drop(['CellName', 'Time'], axis=1)\n",
    "train_data"
   ]
  },
  {
   "cell_type": "code",
   "execution_count": 231,
   "metadata": {},
   "outputs": [],
   "source": [
    "# train_data['Time'] = [int(time.split(':')[0]) for time in train_data['Time']]\n",
    "# train_data"
   ]
  },
  {
   "cell_type": "markdown",
   "metadata": {},
   "source": [
    "## Checking for null values"
   ]
  },
  {
   "cell_type": "code",
   "execution_count": 5,
   "metadata": {},
   "outputs": [
    {
     "data": {
      "text/plain": [
       "PRBUsageUL  PRBUsageDL  meanThr_DL  meanThr_UL  maxThr_DL  maxThr_UL  meanUE_DL  meanUE_UL  maxUE_DL  maxUE_UL  maxUE_UL+DL  Unusual\n",
       "False       False       False       False       False      False      False      False      False     False     False        False      36815\n",
       "                                                                                            True      True      False        False         84\n",
       "                                                                                                                True         False          5\n",
       "Name: count, dtype: int64"
      ]
     },
     "execution_count": 5,
     "metadata": {},
     "output_type": "execute_result"
    }
   ],
   "source": [
    "train_data.isnull().value_counts()"
   ]
  },
  {
   "cell_type": "code",
   "execution_count": 6,
   "metadata": {},
   "outputs": [],
   "source": [
    "# Dropping the null values\n",
    "train_data.dropna(inplace=True)"
   ]
  },
  {
   "cell_type": "code",
   "execution_count": 7,
   "metadata": {},
   "outputs": [
    {
     "data": {
      "text/plain": [
       "PRBUsageUL  PRBUsageDL  meanThr_DL  meanThr_UL  maxThr_DL  maxThr_UL  meanUE_DL  meanUE_UL  maxUE_DL  maxUE_UL  maxUE_UL+DL  Unusual\n",
       "False       False       False       False       False      False      False      False      False     False     False        False      36815\n",
       "Name: count, dtype: int64"
      ]
     },
     "execution_count": 7,
     "metadata": {},
     "output_type": "execute_result"
    }
   ],
   "source": [
    "train_data.isnull().value_counts()"
   ]
  },
  {
   "cell_type": "markdown",
   "metadata": {},
   "source": [
    "All the null values have been handled"
   ]
  },
  {
   "cell_type": "markdown",
   "metadata": {},
   "source": [
    "## Checking if the dataset is balanced"
   ]
  },
  {
   "cell_type": "code",
   "execution_count": 8,
   "metadata": {},
   "outputs": [
    {
     "data": {
      "text/plain": [
       "Unusual\n",
       "0    26648\n",
       "1    10167\n",
       "Name: count, dtype: int64"
      ]
     },
     "execution_count": 8,
     "metadata": {},
     "output_type": "execute_result"
    }
   ],
   "source": [
    "train_data['Unusual'].value_counts()"
   ]
  },
  {
   "cell_type": "markdown",
   "metadata": {},
   "source": [
    "## Onehot encoding the Time column"
   ]
  },
  {
   "cell_type": "code",
   "execution_count": 236,
   "metadata": {},
   "outputs": [],
   "source": [
    "# from sklearn.preprocessing import OneHotEncoder\n",
    "# onehot_encoder = OneHotEncoder()\n",
    "# time_encoder = onehot_encoder.fit_transform(train_data[['Time']])\n",
    "# time_encoder"
   ]
  },
  {
   "cell_type": "code",
   "execution_count": 237,
   "metadata": {},
   "outputs": [],
   "source": [
    "# time_encoder_df = pd.DataFrame(time_encoder.toarray(), columns=onehot_encoder.get_feature_names_out(['Time']))\n",
    "# time_encoder_df"
   ]
  },
  {
   "cell_type": "code",
   "execution_count": 238,
   "metadata": {},
   "outputs": [],
   "source": [
    "# ## Combine one hot encoded columns with original data\n",
    "# train_data = pd.concat([train_data.drop('Time', axis=1), time_encoder_df], axis=1)\n",
    "# train_data"
   ]
  },
  {
   "cell_type": "code",
   "execution_count": 9,
   "metadata": {},
   "outputs": [],
   "source": [
    "# Dropping the null values\n",
    "train_data.dropna(inplace=True)"
   ]
  },
  {
   "cell_type": "code",
   "execution_count": 10,
   "metadata": {},
   "outputs": [
    {
     "data": {
      "text/html": [
       "<div>\n",
       "<style scoped>\n",
       "    .dataframe tbody tr th:only-of-type {\n",
       "        vertical-align: middle;\n",
       "    }\n",
       "\n",
       "    .dataframe tbody tr th {\n",
       "        vertical-align: top;\n",
       "    }\n",
       "\n",
       "    .dataframe thead th {\n",
       "        text-align: right;\n",
       "    }\n",
       "</style>\n",
       "<table border=\"1\" class=\"dataframe\">\n",
       "  <thead>\n",
       "    <tr style=\"text-align: right;\">\n",
       "      <th></th>\n",
       "      <th>PRBUsageUL</th>\n",
       "      <th>PRBUsageDL</th>\n",
       "      <th>meanThr_DL</th>\n",
       "      <th>meanThr_UL</th>\n",
       "      <th>maxThr_DL</th>\n",
       "      <th>maxThr_UL</th>\n",
       "      <th>meanUE_DL</th>\n",
       "      <th>meanUE_UL</th>\n",
       "      <th>maxUE_DL</th>\n",
       "      <th>maxUE_UL</th>\n",
       "      <th>maxUE_UL+DL</th>\n",
       "      <th>Unusual</th>\n",
       "    </tr>\n",
       "  </thead>\n",
       "  <tbody>\n",
       "    <tr>\n",
       "      <th>0</th>\n",
       "      <td>11.642</td>\n",
       "      <td>1.393</td>\n",
       "      <td>0.370</td>\n",
       "      <td>0.041</td>\n",
       "      <td>15.655</td>\n",
       "      <td>0.644</td>\n",
       "      <td>1.114</td>\n",
       "      <td>1.025</td>\n",
       "      <td>4.0</td>\n",
       "      <td>3.0</td>\n",
       "      <td>7</td>\n",
       "      <td>1</td>\n",
       "    </tr>\n",
       "    <tr>\n",
       "      <th>1</th>\n",
       "      <td>21.791</td>\n",
       "      <td>1.891</td>\n",
       "      <td>0.537</td>\n",
       "      <td>0.268</td>\n",
       "      <td>10.273</td>\n",
       "      <td>1.154</td>\n",
       "      <td>1.353</td>\n",
       "      <td>1.085</td>\n",
       "      <td>6.0</td>\n",
       "      <td>4.0</td>\n",
       "      <td>10</td>\n",
       "      <td>1</td>\n",
       "    </tr>\n",
       "    <tr>\n",
       "      <th>2</th>\n",
       "      <td>0.498</td>\n",
       "      <td>0.398</td>\n",
       "      <td>0.015</td>\n",
       "      <td>0.010</td>\n",
       "      <td>0.262</td>\n",
       "      <td>0.164</td>\n",
       "      <td>0.995</td>\n",
       "      <td>0.995</td>\n",
       "      <td>1.0</td>\n",
       "      <td>1.0</td>\n",
       "      <td>2</td>\n",
       "      <td>1</td>\n",
       "    </tr>\n",
       "    <tr>\n",
       "      <th>3</th>\n",
       "      <td>1.891</td>\n",
       "      <td>1.095</td>\n",
       "      <td>0.940</td>\n",
       "      <td>0.024</td>\n",
       "      <td>60.715</td>\n",
       "      <td>0.825</td>\n",
       "      <td>1.035</td>\n",
       "      <td>0.995</td>\n",
       "      <td>2.0</td>\n",
       "      <td>2.0</td>\n",
       "      <td>4</td>\n",
       "      <td>1</td>\n",
       "    </tr>\n",
       "    <tr>\n",
       "      <th>4</th>\n",
       "      <td>0.303</td>\n",
       "      <td>0.404</td>\n",
       "      <td>0.016</td>\n",
       "      <td>0.013</td>\n",
       "      <td>0.348</td>\n",
       "      <td>0.168</td>\n",
       "      <td>1.011</td>\n",
       "      <td>1.011</td>\n",
       "      <td>2.0</td>\n",
       "      <td>1.0</td>\n",
       "      <td>3</td>\n",
       "      <td>0</td>\n",
       "    </tr>\n",
       "    <tr>\n",
       "      <th>...</th>\n",
       "      <td>...</td>\n",
       "      <td>...</td>\n",
       "      <td>...</td>\n",
       "      <td>...</td>\n",
       "      <td>...</td>\n",
       "      <td>...</td>\n",
       "      <td>...</td>\n",
       "      <td>...</td>\n",
       "      <td>...</td>\n",
       "      <td>...</td>\n",
       "      <td>...</td>\n",
       "      <td>...</td>\n",
       "    </tr>\n",
       "    <tr>\n",
       "      <th>36899</th>\n",
       "      <td>7.579</td>\n",
       "      <td>0.808</td>\n",
       "      <td>0.164</td>\n",
       "      <td>0.037</td>\n",
       "      <td>7.980</td>\n",
       "      <td>0.375</td>\n",
       "      <td>1.101</td>\n",
       "      <td>0.010</td>\n",
       "      <td>4.0</td>\n",
       "      <td>3.0</td>\n",
       "      <td>7</td>\n",
       "      <td>0</td>\n",
       "    </tr>\n",
       "    <tr>\n",
       "      <th>36900</th>\n",
       "      <td>9.095</td>\n",
       "      <td>1.213</td>\n",
       "      <td>0.189</td>\n",
       "      <td>0.030</td>\n",
       "      <td>19.510</td>\n",
       "      <td>1.583</td>\n",
       "      <td>1.122</td>\n",
       "      <td>1.031</td>\n",
       "      <td>4.0</td>\n",
       "      <td>2.0</td>\n",
       "      <td>6</td>\n",
       "      <td>0</td>\n",
       "    </tr>\n",
       "    <tr>\n",
       "      <th>36901</th>\n",
       "      <td>4.378</td>\n",
       "      <td>0.896</td>\n",
       "      <td>0.341</td>\n",
       "      <td>0.030</td>\n",
       "      <td>12.037</td>\n",
       "      <td>0.540</td>\n",
       "      <td>1.065</td>\n",
       "      <td>1.005</td>\n",
       "      <td>4.0</td>\n",
       "      <td>3.0</td>\n",
       "      <td>7</td>\n",
       "      <td>1</td>\n",
       "    </tr>\n",
       "    <tr>\n",
       "      <th>36902</th>\n",
       "      <td>13.339</td>\n",
       "      <td>2.728</td>\n",
       "      <td>0.559</td>\n",
       "      <td>0.065</td>\n",
       "      <td>28.187</td>\n",
       "      <td>0.894</td>\n",
       "      <td>1.223</td>\n",
       "      <td>1.061</td>\n",
       "      <td>5.0</td>\n",
       "      <td>4.0</td>\n",
       "      <td>9</td>\n",
       "      <td>0</td>\n",
       "    </tr>\n",
       "    <tr>\n",
       "      <th>36903</th>\n",
       "      <td>22.231</td>\n",
       "      <td>2.627</td>\n",
       "      <td>0.814</td>\n",
       "      <td>0.076</td>\n",
       "      <td>80.804</td>\n",
       "      <td>0.852</td>\n",
       "      <td>1.324</td>\n",
       "      <td>1.142</td>\n",
       "      <td>6.0</td>\n",
       "      <td>4.0</td>\n",
       "      <td>10</td>\n",
       "      <td>0</td>\n",
       "    </tr>\n",
       "  </tbody>\n",
       "</table>\n",
       "<p>36815 rows × 12 columns</p>\n",
       "</div>"
      ],
      "text/plain": [
       "       PRBUsageUL  PRBUsageDL  meanThr_DL  meanThr_UL  maxThr_DL  maxThr_UL  \\\n",
       "0          11.642       1.393       0.370       0.041     15.655      0.644   \n",
       "1          21.791       1.891       0.537       0.268     10.273      1.154   \n",
       "2           0.498       0.398       0.015       0.010      0.262      0.164   \n",
       "3           1.891       1.095       0.940       0.024     60.715      0.825   \n",
       "4           0.303       0.404       0.016       0.013      0.348      0.168   \n",
       "...           ...         ...         ...         ...        ...        ...   \n",
       "36899       7.579       0.808       0.164       0.037      7.980      0.375   \n",
       "36900       9.095       1.213       0.189       0.030     19.510      1.583   \n",
       "36901       4.378       0.896       0.341       0.030     12.037      0.540   \n",
       "36902      13.339       2.728       0.559       0.065     28.187      0.894   \n",
       "36903      22.231       2.627       0.814       0.076     80.804      0.852   \n",
       "\n",
       "       meanUE_DL  meanUE_UL  maxUE_DL  maxUE_UL maxUE_UL+DL  Unusual  \n",
       "0          1.114      1.025       4.0       3.0           7        1  \n",
       "1          1.353      1.085       6.0       4.0          10        1  \n",
       "2          0.995      0.995       1.0       1.0           2        1  \n",
       "3          1.035      0.995       2.0       2.0           4        1  \n",
       "4          1.011      1.011       2.0       1.0           3        0  \n",
       "...          ...        ...       ...       ...         ...      ...  \n",
       "36899      1.101      0.010       4.0       3.0           7        0  \n",
       "36900      1.122      1.031       4.0       2.0           6        0  \n",
       "36901      1.065      1.005       4.0       3.0           7        1  \n",
       "36902      1.223      1.061       5.0       4.0           9        0  \n",
       "36903      1.324      1.142       6.0       4.0          10        0  \n",
       "\n",
       "[36815 rows x 12 columns]"
      ]
     },
     "execution_count": 10,
     "metadata": {},
     "output_type": "execute_result"
    }
   ],
   "source": [
    "train_data"
   ]
  },
  {
   "cell_type": "markdown",
   "metadata": {},
   "source": [
    "## Save the encoder"
   ]
  },
  {
   "cell_type": "code",
   "execution_count": 241,
   "metadata": {},
   "outputs": [],
   "source": [
    "# with open('onehot_encoder_time.pkl', 'wb') as file:\n",
    "#     pickle.dump(time_encoder, file)"
   ]
  },
  {
   "cell_type": "markdown",
   "metadata": {},
   "source": [
    "## Checking for any duplicated data"
   ]
  },
  {
   "cell_type": "code",
   "execution_count": 11,
   "metadata": {},
   "outputs": [
    {
     "data": {
      "text/plain": [
       "False    36596\n",
       "True       219\n",
       "Name: count, dtype: int64"
      ]
     },
     "execution_count": 11,
     "metadata": {},
     "output_type": "execute_result"
    }
   ],
   "source": [
    "train_data.duplicated().value_counts()"
   ]
  },
  {
   "cell_type": "code",
   "execution_count": 12,
   "metadata": {},
   "outputs": [],
   "source": [
    "## Dropping duplicated records\n",
    "train_data.drop_duplicates(inplace=True)"
   ]
  },
  {
   "cell_type": "code",
   "execution_count": 13,
   "metadata": {},
   "outputs": [
    {
     "data": {
      "text/plain": [
       "False    36596\n",
       "Name: count, dtype: int64"
      ]
     },
     "execution_count": 13,
     "metadata": {},
     "output_type": "execute_result"
    }
   ],
   "source": [
    "train_data.duplicated().value_counts()"
   ]
  },
  {
   "cell_type": "markdown",
   "metadata": {},
   "source": [
    "## Dividing the dataset into independent and dependent features"
   ]
  },
  {
   "cell_type": "code",
   "execution_count": 16,
   "metadata": {},
   "outputs": [],
   "source": [
    "X = train_data.drop('Unusual', axis=1)\n",
    "y = train_data['Unusual']\n",
    "\n",
    "# Split the data in training and testing data sets\n",
    "X_train, X_test, y_train, y_test = train_test_split(X, y, test_size=0.2, random_state=42)\n",
    "\n",
    "# Scale the features\n",
    "scaler = StandardScaler()\n",
    "X_train = scaler.fit_transform(X_train)\n",
    "X_test = scaler.transform(X_test)"
   ]
  },
  {
   "cell_type": "code",
   "execution_count": 17,
   "metadata": {},
   "outputs": [
    {
     "data": {
      "text/html": [
       "<div>\n",
       "<style scoped>\n",
       "    .dataframe tbody tr th:only-of-type {\n",
       "        vertical-align: middle;\n",
       "    }\n",
       "\n",
       "    .dataframe tbody tr th {\n",
       "        vertical-align: top;\n",
       "    }\n",
       "\n",
       "    .dataframe thead th {\n",
       "        text-align: right;\n",
       "    }\n",
       "</style>\n",
       "<table border=\"1\" class=\"dataframe\">\n",
       "  <thead>\n",
       "    <tr style=\"text-align: right;\">\n",
       "      <th></th>\n",
       "      <th>PRBUsageUL</th>\n",
       "      <th>PRBUsageDL</th>\n",
       "      <th>meanThr_DL</th>\n",
       "      <th>meanThr_UL</th>\n",
       "      <th>maxThr_DL</th>\n",
       "      <th>maxThr_UL</th>\n",
       "      <th>meanUE_DL</th>\n",
       "      <th>meanUE_UL</th>\n",
       "      <th>maxUE_DL</th>\n",
       "      <th>maxUE_UL</th>\n",
       "      <th>maxUE_UL+DL</th>\n",
       "    </tr>\n",
       "  </thead>\n",
       "  <tbody>\n",
       "    <tr>\n",
       "      <th>0</th>\n",
       "      <td>11.642</td>\n",
       "      <td>1.393</td>\n",
       "      <td>0.370</td>\n",
       "      <td>0.041</td>\n",
       "      <td>15.655</td>\n",
       "      <td>0.644</td>\n",
       "      <td>1.114</td>\n",
       "      <td>1.025</td>\n",
       "      <td>4.0</td>\n",
       "      <td>3.0</td>\n",
       "      <td>7</td>\n",
       "    </tr>\n",
       "    <tr>\n",
       "      <th>1</th>\n",
       "      <td>21.791</td>\n",
       "      <td>1.891</td>\n",
       "      <td>0.537</td>\n",
       "      <td>0.268</td>\n",
       "      <td>10.273</td>\n",
       "      <td>1.154</td>\n",
       "      <td>1.353</td>\n",
       "      <td>1.085</td>\n",
       "      <td>6.0</td>\n",
       "      <td>4.0</td>\n",
       "      <td>10</td>\n",
       "    </tr>\n",
       "    <tr>\n",
       "      <th>2</th>\n",
       "      <td>0.498</td>\n",
       "      <td>0.398</td>\n",
       "      <td>0.015</td>\n",
       "      <td>0.010</td>\n",
       "      <td>0.262</td>\n",
       "      <td>0.164</td>\n",
       "      <td>0.995</td>\n",
       "      <td>0.995</td>\n",
       "      <td>1.0</td>\n",
       "      <td>1.0</td>\n",
       "      <td>2</td>\n",
       "    </tr>\n",
       "    <tr>\n",
       "      <th>3</th>\n",
       "      <td>1.891</td>\n",
       "      <td>1.095</td>\n",
       "      <td>0.940</td>\n",
       "      <td>0.024</td>\n",
       "      <td>60.715</td>\n",
       "      <td>0.825</td>\n",
       "      <td>1.035</td>\n",
       "      <td>0.995</td>\n",
       "      <td>2.0</td>\n",
       "      <td>2.0</td>\n",
       "      <td>4</td>\n",
       "    </tr>\n",
       "    <tr>\n",
       "      <th>4</th>\n",
       "      <td>0.303</td>\n",
       "      <td>0.404</td>\n",
       "      <td>0.016</td>\n",
       "      <td>0.013</td>\n",
       "      <td>0.348</td>\n",
       "      <td>0.168</td>\n",
       "      <td>1.011</td>\n",
       "      <td>1.011</td>\n",
       "      <td>2.0</td>\n",
       "      <td>1.0</td>\n",
       "      <td>3</td>\n",
       "    </tr>\n",
       "    <tr>\n",
       "      <th>...</th>\n",
       "      <td>...</td>\n",
       "      <td>...</td>\n",
       "      <td>...</td>\n",
       "      <td>...</td>\n",
       "      <td>...</td>\n",
       "      <td>...</td>\n",
       "      <td>...</td>\n",
       "      <td>...</td>\n",
       "      <td>...</td>\n",
       "      <td>...</td>\n",
       "      <td>...</td>\n",
       "    </tr>\n",
       "    <tr>\n",
       "      <th>36899</th>\n",
       "      <td>7.579</td>\n",
       "      <td>0.808</td>\n",
       "      <td>0.164</td>\n",
       "      <td>0.037</td>\n",
       "      <td>7.980</td>\n",
       "      <td>0.375</td>\n",
       "      <td>1.101</td>\n",
       "      <td>0.010</td>\n",
       "      <td>4.0</td>\n",
       "      <td>3.0</td>\n",
       "      <td>7</td>\n",
       "    </tr>\n",
       "    <tr>\n",
       "      <th>36900</th>\n",
       "      <td>9.095</td>\n",
       "      <td>1.213</td>\n",
       "      <td>0.189</td>\n",
       "      <td>0.030</td>\n",
       "      <td>19.510</td>\n",
       "      <td>1.583</td>\n",
       "      <td>1.122</td>\n",
       "      <td>1.031</td>\n",
       "      <td>4.0</td>\n",
       "      <td>2.0</td>\n",
       "      <td>6</td>\n",
       "    </tr>\n",
       "    <tr>\n",
       "      <th>36901</th>\n",
       "      <td>4.378</td>\n",
       "      <td>0.896</td>\n",
       "      <td>0.341</td>\n",
       "      <td>0.030</td>\n",
       "      <td>12.037</td>\n",
       "      <td>0.540</td>\n",
       "      <td>1.065</td>\n",
       "      <td>1.005</td>\n",
       "      <td>4.0</td>\n",
       "      <td>3.0</td>\n",
       "      <td>7</td>\n",
       "    </tr>\n",
       "    <tr>\n",
       "      <th>36902</th>\n",
       "      <td>13.339</td>\n",
       "      <td>2.728</td>\n",
       "      <td>0.559</td>\n",
       "      <td>0.065</td>\n",
       "      <td>28.187</td>\n",
       "      <td>0.894</td>\n",
       "      <td>1.223</td>\n",
       "      <td>1.061</td>\n",
       "      <td>5.0</td>\n",
       "      <td>4.0</td>\n",
       "      <td>9</td>\n",
       "    </tr>\n",
       "    <tr>\n",
       "      <th>36903</th>\n",
       "      <td>22.231</td>\n",
       "      <td>2.627</td>\n",
       "      <td>0.814</td>\n",
       "      <td>0.076</td>\n",
       "      <td>80.804</td>\n",
       "      <td>0.852</td>\n",
       "      <td>1.324</td>\n",
       "      <td>1.142</td>\n",
       "      <td>6.0</td>\n",
       "      <td>4.0</td>\n",
       "      <td>10</td>\n",
       "    </tr>\n",
       "  </tbody>\n",
       "</table>\n",
       "<p>36596 rows × 11 columns</p>\n",
       "</div>"
      ],
      "text/plain": [
       "       PRBUsageUL  PRBUsageDL  meanThr_DL  meanThr_UL  maxThr_DL  maxThr_UL  \\\n",
       "0          11.642       1.393       0.370       0.041     15.655      0.644   \n",
       "1          21.791       1.891       0.537       0.268     10.273      1.154   \n",
       "2           0.498       0.398       0.015       0.010      0.262      0.164   \n",
       "3           1.891       1.095       0.940       0.024     60.715      0.825   \n",
       "4           0.303       0.404       0.016       0.013      0.348      0.168   \n",
       "...           ...         ...         ...         ...        ...        ...   \n",
       "36899       7.579       0.808       0.164       0.037      7.980      0.375   \n",
       "36900       9.095       1.213       0.189       0.030     19.510      1.583   \n",
       "36901       4.378       0.896       0.341       0.030     12.037      0.540   \n",
       "36902      13.339       2.728       0.559       0.065     28.187      0.894   \n",
       "36903      22.231       2.627       0.814       0.076     80.804      0.852   \n",
       "\n",
       "       meanUE_DL  meanUE_UL  maxUE_DL  maxUE_UL maxUE_UL+DL  \n",
       "0          1.114      1.025       4.0       3.0           7  \n",
       "1          1.353      1.085       6.0       4.0          10  \n",
       "2          0.995      0.995       1.0       1.0           2  \n",
       "3          1.035      0.995       2.0       2.0           4  \n",
       "4          1.011      1.011       2.0       1.0           3  \n",
       "...          ...        ...       ...       ...         ...  \n",
       "36899      1.101      0.010       4.0       3.0           7  \n",
       "36900      1.122      1.031       4.0       2.0           6  \n",
       "36901      1.065      1.005       4.0       3.0           7  \n",
       "36902      1.223      1.061       5.0       4.0           9  \n",
       "36903      1.324      1.142       6.0       4.0          10  \n",
       "\n",
       "[36596 rows x 11 columns]"
      ]
     },
     "execution_count": 17,
     "metadata": {},
     "output_type": "execute_result"
    }
   ],
   "source": [
    "X"
   ]
  },
  {
   "cell_type": "code",
   "execution_count": 18,
   "metadata": {},
   "outputs": [
    {
     "data": {
      "text/plain": [
       "array([[-0.92120248, -0.58169799, -0.70455384, ..., -1.26005869,\n",
       "        -1.51206656, -1.4202881 ],\n",
       "       [-0.57246643, -0.76249208, -0.76247725, ..., -1.26005869,\n",
       "        -0.78259486, -1.08840196],\n",
       "       [-0.84909942,  0.14192587, -0.16945182, ..., -0.11798726,\n",
       "        -0.05312316, -0.09274356],\n",
       "       ...,\n",
       "       [-0.92132146, -0.72042613, -0.71834513, ..., -0.68902297,\n",
       "        -0.78259486, -0.75651583],\n",
       "       [-0.76486022,  0.18712439, -0.42321154, ...,  0.45304845,\n",
       "        -0.05312316,  0.23914257],\n",
       "       [ 0.3893835 , -0.35525787, -0.32943077, ...,  0.45304845,\n",
       "        -0.05312316,  0.23914257]])"
      ]
     },
     "execution_count": 18,
     "metadata": {},
     "output_type": "execute_result"
    }
   ],
   "source": [
    "X_train"
   ]
  },
  {
   "cell_type": "code",
   "execution_count": 19,
   "metadata": {},
   "outputs": [
    {
     "data": {
      "text/plain": [
       "(29276, 11)"
      ]
     },
     "execution_count": 19,
     "metadata": {},
     "output_type": "execute_result"
    }
   ],
   "source": [
    "X_train.shape"
   ]
  },
  {
   "cell_type": "code",
   "execution_count": 20,
   "metadata": {},
   "outputs": [
    {
     "data": {
      "text/plain": [
       "(7320, 11)"
      ]
     },
     "execution_count": 20,
     "metadata": {},
     "output_type": "execute_result"
    }
   ],
   "source": [
    "X_test.shape"
   ]
  },
  {
   "cell_type": "code",
   "execution_count": 22,
   "metadata": {},
   "outputs": [],
   "source": [
    "## Save the scaler\n",
    "with open('scaler.pkl', 'wb') as file:\n",
    "    pickle.dump(scaler, file)"
   ]
  },
  {
   "cell_type": "markdown",
   "metadata": {},
   "source": [
    "## Model 1: Logistic Regression"
   ]
  },
  {
   "cell_type": "code",
   "execution_count": 23,
   "metadata": {},
   "outputs": [
    {
     "name": "stdout",
     "output_type": "stream",
     "text": [
      "Logistic Regression Accuracy: 0.7277322404371585\n"
     ]
    }
   ],
   "source": [
    "log_reg = LogisticRegression()\n",
    "log_reg.fit(X_train, y_train)\n",
    "y_pred_log_reg = log_reg.predict(X_test)\n",
    "log_reg_accuracy = accuracy_score(y_test, y_pred_log_reg)\n",
    "print(\"Logistic Regression Accuracy:\", log_reg_accuracy)"
   ]
  },
  {
   "cell_type": "markdown",
   "metadata": {},
   "source": [
    "## Model 2: Random Forest"
   ]
  },
  {
   "cell_type": "code",
   "execution_count": 24,
   "metadata": {},
   "outputs": [
    {
     "name": "stdout",
     "output_type": "stream",
     "text": [
      "Random Forest Accuracy: 0.9315573770491803\n"
     ]
    }
   ],
   "source": [
    "rf = RandomForestClassifier(n_estimators=100, random_state=42)\n",
    "rf.fit(X_train, y_train)\n",
    "y_pred_rf = rf.predict(X_test)\n",
    "rf_accuracy = accuracy_score(y_test, y_pred_rf)\n",
    "print(\"Random Forest Accuracy:\", rf_accuracy)"
   ]
  },
  {
   "cell_type": "markdown",
   "metadata": {},
   "source": [
    "## Model 3: SVM"
   ]
  },
  {
   "cell_type": "code",
   "execution_count": 25,
   "metadata": {},
   "outputs": [
    {
     "name": "stdout",
     "output_type": "stream",
     "text": [
      "SVM Accuracy: 0.7296448087431694\n"
     ]
    }
   ],
   "source": [
    "svm = SVC(kernel='linear', random_state=42)\n",
    "svm.fit(X_train, y_train)\n",
    "y_pred_svm = svm.predict(X_test)\n",
    "svm_accuracy = accuracy_score(y_test, y_pred_svm)\n",
    "print(\"SVM Accuracy:\", svm_accuracy)"
   ]
  },
  {
   "cell_type": "markdown",
   "metadata": {},
   "source": [
    "## Model 4: XGBoost"
   ]
  },
  {
   "cell_type": "code",
   "execution_count": 26,
   "metadata": {},
   "outputs": [
    {
     "name": "stdout",
     "output_type": "stream",
     "text": [
      "XGBoost Accuracy: 0.9830601092896175\n"
     ]
    }
   ],
   "source": [
    "xgb = XGBClassifier(random_state=42)\n",
    "xgb.fit(X_train, y_train)\n",
    "y_pred_xgb = xgb.predict(X_test)\n",
    "xgb_accuracy = accuracy_score(y_test, y_pred_xgb)\n",
    "print(\"XGBoost Accuracy:\", xgb_accuracy)"
   ]
  },
  {
   "cell_type": "markdown",
   "metadata": {},
   "source": [
    "## Choose the model with the highest accuracy"
   ]
  },
  {
   "cell_type": "code",
   "execution_count": 27,
   "metadata": {},
   "outputs": [
    {
     "name": "stdout",
     "output_type": "stream",
     "text": [
      "Best model: XGBClassifier(base_score=None, booster=None, callbacks=None,\n",
      "              colsample_bylevel=None, colsample_bynode=None,\n",
      "              colsample_bytree=None, device=None, early_stopping_rounds=None,\n",
      "              enable_categorical=False, eval_metric=None, feature_types=None,\n",
      "              gamma=None, grow_policy=None, importance_type=None,\n",
      "              interaction_constraints=None, learning_rate=None, max_bin=None,\n",
      "              max_cat_threshold=None, max_cat_to_onehot=None,\n",
      "              max_delta_step=None, max_depth=None, max_leaves=None,\n",
      "              min_child_weight=None, missing=nan, monotone_constraints=None,\n",
      "              multi_strategy=None, n_estimators=None, n_jobs=None,\n",
      "              num_parallel_tree=None, random_state=42, ...) with accuracy: 0.9830601092896175\n"
     ]
    }
   ],
   "source": [
    "best_model = max([(log_reg, log_reg_accuracy), (rf, rf_accuracy), (svm, svm_accuracy), (xgb, xgb_accuracy)], key=lambda x: x[1])\n",
    "print(f\"Best model: {best_model[0]} with accuracy: {best_model[1]}\")"
   ]
  },
  {
   "cell_type": "code",
   "execution_count": 31,
   "metadata": {},
   "outputs": [
    {
     "data": {
      "application/javascript": "\n        if (window._pyforest_update_imports_cell) { window._pyforest_update_imports_cell('from sklearn import svm\\nimport xgboost as xgb\\nimport numpy as np'); }\n    ",
      "text/plain": [
       "<IPython.core.display.Javascript object>"
      ]
     },
     "metadata": {},
     "output_type": "display_data"
    }
   ],
   "source": [
    "# Make predictions on the test set (replace X_test with your actual test data)\n",
    "y_pred_prob = xgb.predict(X_test)\n",
    "\n",
    "# Convert predicted probabilities to binary class labels\n",
    "y_pred = np.where(y_pred_prob > 0.5, 1, 0)  # Assuming binary classification"
   ]
  },
  {
   "cell_type": "code",
   "execution_count": 32,
   "metadata": {},
   "outputs": [
    {
     "name": "stdout",
     "output_type": "stream",
     "text": [
      "F1 Score: 0.9677083333333333\n"
     ]
    }
   ],
   "source": [
    "from sklearn.metrics import f1_score\n",
    "# Calculate F1 score (replace y_test with your actual test labels)\n",
    "f1 = f1_score(y_test, y_pred)\n",
    "print(\"F1 Score:\", f1)"
   ]
  },
  {
   "cell_type": "code",
   "execution_count": null,
   "metadata": {},
   "outputs": [],
   "source": []
  }
 ],
 "metadata": {
  "kernelspec": {
   "display_name": "Python 3",
   "language": "python",
   "name": "python3"
  },
  "language_info": {
   "codemirror_mode": {
    "name": "ipython",
    "version": 3
   },
   "file_extension": ".py",
   "mimetype": "text/x-python",
   "name": "python",
   "nbconvert_exporter": "python",
   "pygments_lexer": "ipython3",
   "version": "3.10.0"
  }
 },
 "nbformat": 4,
 "nbformat_minor": 2
}
